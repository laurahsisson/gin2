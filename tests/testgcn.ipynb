{
 "cells": [
  {
   "cell_type": "code",
   "execution_count": 1,
   "id": "fd9786d1-b23e-41c4-904a-5607bd2cf4b4",
   "metadata": {
    "tags": []
   },
   "outputs": [
    {
     "data": {
      "text/plain": [
       "'/Users/laurasisson/gin2'"
      ]
     },
     "execution_count": 1,
     "metadata": {},
     "output_type": "execute_result"
    }
   ],
   "source": [
    "import os\n",
    "os.chdir(\"..\")\n",
    "os.getcwd()"
   ]
  },
  {
   "cell_type": "code",
   "execution_count": 2,
   "id": "875a6fe1-22cb-47ca-8cbe-f646bad30ffd",
   "metadata": {
    "tags": []
   },
   "outputs": [
    {
     "data": {
      "text/plain": [
       "dict_keys(['train', 'test', 'covered_notes'])"
      ]
     },
     "execution_count": 2,
     "metadata": {},
     "output_type": "execute_result"
    }
   ],
   "source": [
    "import json\n",
    "with open(\"Data/single_fold.json\") as f:\n",
    "    annealed = json.load(f)\n",
    "\n",
    "annealed.keys()"
   ]
  },
  {
   "cell_type": "code",
   "execution_count": 3,
   "id": "d0122681-28be-4c72-9cff-f03eae496772",
   "metadata": {
    "tags": []
   },
   "outputs": [
    {
     "name": "stdout",
     "output_type": "stream",
     "text": [
      "'NoneType' object has no attribute 'GetAtoms'\n"
     ]
    },
    {
     "name": "stderr",
     "output_type": "stream",
     "text": [
      "[13:07:53] Can't kekulize mol.  Unkekulized atoms: 3 4 5 6 8\n"
     ]
    },
    {
     "data": {
      "application/vnd.jupyter.widget-view+json": {
       "model_id": "451c1c5dfa2e4a8b9d132d6c62cd14f3",
       "version_major": 2,
       "version_minor": 0
      },
      "text/plain": [
       "  0%|          | 0/43992 [00:00<?, ?it/s]"
      ]
     },
     "metadata": {},
     "output_type": "display_data"
    },
    {
     "name": "stderr",
     "output_type": "stream",
     "text": [
      "[13:07:56] SMILES Parse Error: syntax error while parsing: (C)C1=CN=CC(=N1)OC.CC(C)C1=CN=C(C=N1)OC.CC(C)C1=NC=CN=C1OC\n",
      "[13:07:56] SMILES Parse Error: Failed parsing SMILES '(C)C1=CN=CC(=N1)OC.CC(C)C1=CN=C(C=N1)OC.CC(C)C1=NC=CN=C1OC' for input: '(C)C1=CN=CC(=N1)OC.CC(C)C1=CN=C(C=N1)OC.CC(C)C1=NC=CN=C1OC'\n"
     ]
    },
    {
     "name": "stdout",
     "output_type": "stream",
     "text": [
      "'NoneType' object has no attribute 'GetAtoms'\n",
      "'NoneType' object has no attribute 'GetAtoms'\n"
     ]
    },
    {
     "name": "stderr",
     "output_type": "stream",
     "text": [
      "[13:07:57] SMILES Parse Error: syntax error while parsing: InChI=1/C7H8S/c1-6-4-2-3-5-7(6)8/h2-5,8H,1H3\n",
      "[13:07:57] SMILES Parse Error: Failed parsing SMILES 'InChI=1/C7H8S/c1-6-4-2-3-5-7(6)8/h2-5,8H,1H3' for input: 'InChI=1/C7H8S/c1-6-4-2-3-5-7(6)8/h2-5,8H,1H3'\n"
     ]
    },
    {
     "data": {
      "application/vnd.jupyter.widget-view+json": {
       "model_id": "eefc611c04d5436396fba8a435966300",
       "version_major": 2,
       "version_minor": 0
      },
      "text/plain": [
       "  0%|          | 0/39554 [00:00<?, ?it/s]"
      ]
     },
     "metadata": {},
     "output_type": "display_data"
    },
    {
     "name": "stdout",
     "output_type": "stream",
     "text": [
      "Train Dataset: 43,983, Annealed Train: 43,992, Test Dataset: 39,523, Annealed Test: 39,554\n"
     ]
    }
   ],
   "source": [
    "import data\n",
    "# Building the dataset from raw GS data is faster than loading the premade dataset from Drive.\n",
    "all_train_dataset = data.make_blend_dataset(annealed[\"train\"],annealed[\"covered_notes\"],convert_first=True)\n",
    "validate_dataset = data.make_blend_dataset(annealed[\"test\"],annealed[\"covered_notes\"],convert_first=True)\n",
    "print(f\"Train Dataset: {len(all_train_dataset):,}, Annealed Train: {len(annealed['train']):,}, Test Dataset: {len(validate_dataset):,}, Annealed Test: {len(annealed['test']):,}\")"
   ]
  },
  {
   "cell_type": "code",
   "execution_count": 4,
   "id": "b5150d8e-7c6b-4cad-8e5f-8d6f78715226",
   "metadata": {},
   "outputs": [],
   "source": [
    "ex_blend = all_train_dataset[0]"
   ]
  },
  {
   "cell_type": "code",
   "execution_count": 5,
   "id": "691489b5-01d6-461a-902e-a54ed7086ef5",
   "metadata": {
    "tags": []
   },
   "outputs": [
    {
     "data": {
      "text/plain": [
       "(9, 77)"
      ]
     },
     "execution_count": 5,
     "metadata": {},
     "output_type": "execute_result"
    }
   ],
   "source": [
    "IN_DIM = ex_blend[\"graph\"].x.shape[1]\n",
    "NOTES_DIM = ex_blend[\"notes\"].shape[0]\n",
    "IN_DIM, NOTES_DIM"
   ]
  },
  {
   "cell_type": "code",
   "execution_count": 6,
   "id": "4a9fc997-ef8e-4fdf-b4ad-d4374740f681",
   "metadata": {
    "tags": []
   },
   "outputs": [
    {
     "data": {
      "text/plain": [
       "GCN(\n",
       "  (conv_blocks): ModuleList(\n",
       "    (0): GINConvBlock(\n",
       "      (feature_norm): BatchNorm1d(9, eps=1e-05, momentum=0.1, affine=True, track_running_stats=True)\n",
       "      (projection): Sequential(\n",
       "        (0): Linear(in_features=9, out_features=32, bias=True)\n",
       "        (1): ReLU()\n",
       "        (2): Dropout(p=0.1, inplace=False)\n",
       "      )\n",
       "      (conv): GINConv(nn=Sequential(\n",
       "        (0): Linear(in_features=32, out_features=32, bias=True)\n",
       "        (1): ReLU()\n",
       "        (2): Linear(in_features=32, out_features=32, bias=True)\n",
       "        (3): ReLU()\n",
       "        (4): Linear(in_features=32, out_features=32, bias=True)\n",
       "      ))\n",
       "      (norm): BatchNorm1d(32, eps=1e-05, momentum=0.1, affine=True, track_running_stats=True)\n",
       "      (dropout): Dropout(p=0.1, inplace=False)\n",
       "    )\n",
       "    (1): GINConvBlock(\n",
       "      (feature_norm): BatchNorm1d(32, eps=1e-05, momentum=0.1, affine=True, track_running_stats=True)\n",
       "      (projection): Sequential(\n",
       "        (0): Linear(in_features=32, out_features=64, bias=True)\n",
       "        (1): ReLU()\n",
       "        (2): Dropout(p=0.1, inplace=False)\n",
       "      )\n",
       "      (conv): GINConv(nn=Sequential(\n",
       "        (0): Linear(in_features=64, out_features=64, bias=True)\n",
       "        (1): ReLU()\n",
       "        (2): Linear(in_features=64, out_features=64, bias=True)\n",
       "        (3): ReLU()\n",
       "        (4): Linear(in_features=64, out_features=64, bias=True)\n",
       "      ))\n",
       "      (norm): BatchNorm1d(64, eps=1e-05, momentum=0.1, affine=True, track_running_stats=True)\n",
       "      (dropout): Dropout(p=0.1, inplace=False)\n",
       "    )\n",
       "  )\n",
       "  (readout): BlendAggregator(\n",
       "    (readout): TwoStageAggregator(\n",
       "      (mol_readout): SetTransformerAggregation(64, num_seed_points=1, heads=4, layer_norm=False, dropout=0.1)\n",
       "      (blend_readout): SetTransformerAggregation(64, num_seed_points=1, heads=4, layer_norm=False, dropout=0.1)\n",
       "    )\n",
       "  )\n",
       "  (notes_predictor): Linear(in_features=64, out_features=77, bias=True)\n",
       ")"
      ]
     },
     "execution_count": 6,
     "metadata": {},
     "output_type": "execute_result"
    }
   ],
   "source": [
    "import message\n",
    "import gcn\n",
    "\n",
    "conv_configurations = [\n",
    "    message.ConvConfiguration(num_convs=2, hidden_dim=32),\n",
    "    message.ConvConfiguration(num_convs=3, hidden_dim=64)\n",
    "]\n",
    "num_hidden_layers = 2\n",
    "dropout = 0.1\n",
    "do_two_stage = True\n",
    "num_heads = 4\n",
    "num_sabs = 2\n",
    "act_mode = \"relu\"\n",
    "do_feature_norm = True\n",
    "do_conv_norm = True\n",
    "do_residual = True\n",
    "\n",
    "model = gcn.GCN(\n",
    "    in_features=IN_DIM,\n",
    "    conv_configurations=conv_configurations,\n",
    "    num_hidden_layers=num_hidden_layers,\n",
    "    dropout=dropout,\n",
    "    do_two_stage=do_two_stage,\n",
    "    num_heads=num_heads,\n",
    "    num_sabs=num_sabs,\n",
    "    notes_dim=NOTES_DIM,\n",
    "    act_mode=act_mode,\n",
    "    do_feature_norm=do_feature_norm,\n",
    "    do_conv_norm=do_conv_norm,\n",
    "    do_residual=do_residual\n",
    ")\n",
    "\n",
    "model"
   ]
  },
  {
   "cell_type": "code",
   "execution_count": 7,
   "id": "f4736ed7-5d64-4d3b-8210-57c2a4bca387",
   "metadata": {
    "tags": []
   },
   "outputs": [
    {
     "data": {
      "text/plain": [
       "{'embed': tensor([[-0.1341,  0.2906,  0.6842,  0.5453, -0.0346, -0.2705,  0.7619,  0.3842,\n",
       "           0.2936,  0.4820,  0.0295, -0.0357,  0.4187,  0.6615,  0.1073, -0.0824,\n",
       "          -0.0150,  0.2739,  0.5397,  0.0994,  0.1316,  0.3641,  0.4759, -0.1302,\n",
       "           0.2307,  0.0416,  0.2191,  0.4437,  0.3094,  0.0915,  0.2832,  0.1910,\n",
       "           0.4571,  0.7700, -0.0518, -0.0541,  0.1061,  0.0078,  0.3422,  1.0358,\n",
       "          -0.3024,  0.0360,  0.3692,  0.0490,  0.0472, -0.0958,  0.2567,  0.4852,\n",
       "           0.0300,  0.2939, -0.1729,  0.8888,  0.8285,  0.0702,  0.6942,  0.0657,\n",
       "          -0.4719,  0.0417,  0.4058, -0.2398,  0.3887, -0.0642, -0.3262,  0.5440]],\n",
       "        grad_fn=<CloneBackward0>),\n",
       " 'logits': tensor([[ 0.0921, -0.2621,  0.3977, -0.0582, -0.1110, -0.0489,  0.2258, -0.0937,\n",
       "           0.1162, -0.2408,  0.0329,  0.2721, -0.2228,  0.0481,  0.1124, -0.0216,\n",
       "          -0.2759,  0.4277,  0.1525,  0.3807, -0.0892, -0.3885, -0.1086,  0.0502,\n",
       "          -0.0117, -0.2406,  0.0273, -0.0355,  0.1812,  0.1354,  0.2013, -0.0513,\n",
       "           0.0013,  0.3117, -0.0616, -0.1042,  0.0197, -0.5132, -0.2997, -0.3281,\n",
       "           0.0955, -0.1038, -0.2435,  0.1414, -0.2396,  0.0257,  0.0806, -0.3129,\n",
       "          -0.1741, -0.2272,  0.1220, -0.1477,  0.0040,  0.3077, -0.3913,  0.0027,\n",
       "          -0.3066,  0.2935,  0.0585,  0.1721, -0.0448, -0.0827,  0.0726,  0.6787,\n",
       "          -0.0689, -0.0025,  0.0108, -0.0834, -0.2249,  0.3184, -0.3331, -0.3723,\n",
       "          -0.2260, -0.3505,  0.1229,  0.1885,  0.0734]],\n",
       "        grad_fn=<AddmmBackward0>)}"
      ]
     },
     "execution_count": 7,
     "metadata": {},
     "output_type": "execute_result"
    }
   ],
   "source": [
    "model(ex_blend[\"graph\"])"
   ]
  },
  {
   "cell_type": "code",
   "execution_count": 9,
   "id": "c24d9546-7c20-442a-b080-baeb3add7b17",
   "metadata": {
    "tags": []
   },
   "outputs": [
    {
     "data": {
      "text/plain": [
       "torch.Size([23, 32])"
      ]
     },
     "execution_count": 9,
     "metadata": {},
     "output_type": "execute_result"
    }
   ],
   "source": [
    "model.conv_blocks[0](ex_blend[\"graph\"].x,ex_blend[\"graph\"].edge_index,ex_blend[\"graph\"].x).shape"
   ]
  }
 ],
 "metadata": {
  "kernelspec": {
   "display_name": "Python 3 (ipykernel)",
   "language": "python",
   "name": "python3"
  },
  "language_info": {
   "codemirror_mode": {
    "name": "ipython",
    "version": 3
   },
   "file_extension": ".py",
   "mimetype": "text/x-python",
   "name": "python",
   "nbconvert_exporter": "python",
   "pygments_lexer": "ipython3",
   "version": "3.11.5"
  }
 },
 "nbformat": 4,
 "nbformat_minor": 5
}
